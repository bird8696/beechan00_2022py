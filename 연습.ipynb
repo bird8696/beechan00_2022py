{
 "cells": [
  {
   "cell_type": "code",
   "execution_count": 1,
   "metadata": {},
   "outputs": [
    {
     "name": "stdout",
     "output_type": "stream",
     "text": [
      "안녕하세요\n"
     ]
    }
   ],
   "source": [
    "print(\"안녕하세요\")"
   ]
  },
  {
   "cell_type": "code",
   "execution_count": 8,
   "metadata": {},
   "outputs": [
    {
     "name": "stdout",
     "output_type": "stream",
     "text": [
      "{'1월': 31, '2월': 28, '3월': 31}\n"
     ]
    }
   ],
   "source": [
    "day = {\"1월\" : 31, \"2월\" : 28, \"3월\" : 31}\n",
    "print(day)"
   ]
  },
  {
   "cell_type": "code",
   "execution_count": 12,
   "metadata": {},
   "outputs": [
    {
     "name": "stdout",
     "output_type": "stream",
     "text": [
      "{'1월': '31일', '2월': '28일', '3월': '31일', '4월': '30일', '5월': '31일', '6월': '30일', '7월': '31일', '8월': '31일', '9월': '30일', '10월': '31일', '11월': '30일', '12월': '31일'}\n"
     ]
    }
   ],
   "source": [
    "day_end = {}\n",
    "for i in range(1,13):\n",
    "  month = str(i) + \"월\"\n",
    "  end_day = str(31) + \"일\"\n",
    "  if i == 2:\n",
    "    end_day = str(28) + \"일\"\n",
    "  elif i in [4, 6, 9, 11]:\n",
    "    end_day = str(30) + \"일\"\n",
    "  day_end[month] = end_day\n",
    "print(day_end)    \n",
    "\n",
    "\n",
    "\n",
    "\n"
   ]
  },
  {
   "cell_type": "code",
   "execution_count": 13,
   "metadata": {},
   "outputs": [
    {
     "name": "stdout",
     "output_type": "stream",
     "text": [
      "{'1월': 31, '2월': 28, '3월': 31, '4월': 30, '5월': 31, '6월': 30, '7월': 31, '8월': 31, '9월': 30, '10월': 31, '11월': 30, '12월': 31}\n"
     ]
    }
   ],
   "source": [
    "month_end_day = {}\n",
    "month_end_day_list = [31,28,31,30,31,30,31,31,30,31,30,31]\n",
    "\n",
    "for i, end_day in enumerate(month_end_day_list):\n",
    "  month = str(i+1) + \"월\"\n",
    "  month_end_day[month] = end_day\n",
    "\n",
    "print(month_end_day)  "
   ]
  },
  {
   "cell_type": "code",
   "execution_count": 15,
   "metadata": {},
   "outputs": [
    {
     "name": "stdout",
     "output_type": "stream",
     "text": [
      "31일\n",
      "28일\n",
      "31일\n"
     ]
    }
   ],
   "source": [
    "day_end = {}\n",
    "day_end[\"1월\"] = str(31) + \"일\"\n",
    "day_end[\"2월\"] = str(28) + \"일\"\n",
    "day_end[\"3월\"] = str(31) + \"일\"\n",
    "\n",
    "print(day_end[\"1월\"])\n",
    "print(day_end[\"2월\"])\n",
    "print(day_end[\"3월\"])\n"
   ]
  },
  {
   "cell_type": "code",
   "execution_count": 18,
   "metadata": {},
   "outputs": [
    {
     "name": "stdout",
     "output_type": "stream",
     "text": [
      "1월\n",
      "2월\n",
      "3월\n"
     ]
    }
   ],
   "source": [
    "day_end = {}\n",
    "day_end[\"1월\"] = str(31) + \"일\"\n",
    "day_end[\"2월\"] = str(28) + \"일\"\n",
    "day_end[\"3월\"] = str(31) + \"일\"\n",
    "\n",
    "for key in day_end.keys():\n",
    "  print(key)"
   ]
  },
  {
   "cell_type": "code",
   "execution_count": null,
   "metadata": {},
   "outputs": [],
   "source": []
  }
 ],
 "metadata": {
  "interpreter": {
   "hash": "4e0b39fdc4f2df2992ef135d097972ec225e019845a073717c5b1bc8df292c8a"
  },
  "kernelspec": {
   "display_name": "Python 3.10.2 64-bit",
   "language": "python",
   "name": "python3"
  },
  "language_info": {
   "codemirror_mode": {
    "name": "ipython",
    "version": 3
   },
   "file_extension": ".py",
   "mimetype": "text/x-python",
   "name": "python",
   "nbconvert_exporter": "python",
   "pygments_lexer": "ipython3",
   "version": "3.10.2"
  },
  "orig_nbformat": 4
 },
 "nbformat": 4,
 "nbformat_minor": 2
}
